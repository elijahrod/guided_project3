{
 "cells": [
  {
   "cell_type": "code",
   "execution_count": 2,
   "id": "395b1f6e",
   "metadata": {},
   "outputs": [
    {
     "name": "stdout",
     "output_type": "stream",
     "text": [
      "Collecting pyarrow\n",
      "  Downloading pyarrow-13.0.0-cp310-cp310-win_amd64.whl (24.3 MB)\n",
      "     --------------------------------------- 24.3/24.3 MB 15.6 MB/s eta 0:00:00\n",
      "Requirement already satisfied: numpy>=1.16.6 in c:\\users\\wasadmin\\anaconda3\\lib\\site-packages (from pyarrow) (1.23.5)\n",
      "Installing collected packages: pyarrow\n",
      "Successfully installed pyarrow-13.0.0\n"
     ]
    }
   ],
   "source": [
    "%%sh \n",
    "pip install pyarrow"
   ]
  },
  {
   "cell_type": "code",
   "execution_count": 3,
   "id": "4780938f",
   "metadata": {
    "scrolled": true
   },
   "outputs": [
    {
     "name": "stdout",
     "output_type": "stream",
     "text": [
      "Collecting fastparquet\n",
      "  Downloading fastparquet-2023.8.0-cp310-cp310-win_amd64.whl (715 kB)\n",
      "     ------------------------------------- 715.2/715.2 kB 22.0 MB/s eta 0:00:00\n",
      "Collecting cramjam>=2.3\n",
      "  Downloading cramjam-2.7.0-cp310-none-win_amd64.whl (1.3 MB)\n",
      "     ---------------------------------------- 1.3/1.3 MB 21.0 MB/s eta 0:00:00\n",
      "Requirement already satisfied: pandas>=1.5.0 in c:\\users\\wasadmin\\anaconda3\\lib\\site-packages (from fastparquet) (1.5.3)\n",
      "Requirement already satisfied: packaging in c:\\users\\wasadmin\\anaconda3\\lib\\site-packages (from fastparquet) (22.0)\n",
      "Requirement already satisfied: numpy>=1.20.3 in c:\\users\\wasadmin\\anaconda3\\lib\\site-packages (from fastparquet) (1.23.5)\n",
      "Requirement already satisfied: fsspec in c:\\users\\wasadmin\\anaconda3\\lib\\site-packages (from fastparquet) (2022.11.0)\n",
      "Requirement already satisfied: python-dateutil>=2.8.1 in c:\\users\\wasadmin\\anaconda3\\lib\\site-packages (from pandas>=1.5.0->fastparquet) (2.8.2)\n",
      "Requirement already satisfied: pytz>=2020.1 in c:\\users\\wasadmin\\anaconda3\\lib\\site-packages (from pandas>=1.5.0->fastparquet) (2022.7)\n",
      "Requirement already satisfied: six>=1.5 in c:\\users\\wasadmin\\anaconda3\\lib\\site-packages (from python-dateutil>=2.8.1->pandas>=1.5.0->fastparquet) (1.16.0)\n",
      "Installing collected packages: cramjam, fastparquet\n",
      "Successfully installed cramjam-2.7.0 fastparquet-2023.8.0\n"
     ]
    }
   ],
   "source": [
    "%%sh \n",
    "pip install fastparquet"
   ]
  },
  {
   "cell_type": "code",
   "execution_count": 10,
   "id": "96c65fab",
   "metadata": {},
   "outputs": [],
   "source": [
    "import pandas as pd\n",
    "import pyarrow\n",
    "import fastparquet\n",
    "import pickle\n",
    "\n",
    "with open('trained_model.pkl', 'rb') as f: \n",
    "    model = pickle.load(f)\n",
    "    \n",
    "\n",
    "    \n",
    "messy_data = pd.read_csv('./troop_movements10m.csv')\n",
    "\n",
    "messy_data.loc[messy_data['unit_type']=='invalid_unit', 'unit_type'] ='unknown'\n",
    "\n",
    "messy_data.location_x.interpolate (method='ffill', inplace=True)\n",
    "messy_data.location_y.interpolate (method='ffill', inplace=True)"
   ]
  },
  {
   "cell_type": "code",
   "execution_count": null,
   "id": "33ed471d",
   "metadata": {},
   "outputs": [],
   "source": []
  }
 ],
 "metadata": {
  "kernelspec": {
   "display_name": "Python 3 (ipykernel)",
   "language": "python",
   "name": "python3"
  },
  "language_info": {
   "codemirror_mode": {
    "name": "ipython",
    "version": 3
   },
   "file_extension": ".py",
   "mimetype": "text/x-python",
   "name": "python",
   "nbconvert_exporter": "python",
   "pygments_lexer": "ipython3",
   "version": "3.10.9"
  }
 },
 "nbformat": 4,
 "nbformat_minor": 5
}

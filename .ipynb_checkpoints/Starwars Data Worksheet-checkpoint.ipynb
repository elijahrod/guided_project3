{
 "cells": [
  {
   "cell_type": "code",
   "execution_count": 4,
   "id": "a477cb45",
   "metadata": {},
   "outputs": [],
   "source": [
    "import pandas as pd\n",
    "from sklearn.tree import DecisionTreeClassifier\n",
    "from sklearn.model_selection import train_test_split\n",
    "from sklearn.metrics import accuracy_score\n",
    "import seaborn as sns\n",
    "import matplotlib.pyplot as plt\n",
    "import matplotlib.ticker as ticker\n",
    "\n",
    "#import our random data \n",
    "df = pd.read_csv('./troop_movements.csv')"
   ]
  },
  {
   "cell_type": "code",
   "execution_count": 21,
   "id": "6bafb388",
   "metadata": {},
   "outputs": [
    {
     "name": "stdout",
     "output_type": "stream",
     "text": [
      "0          empire\n",
      "1      resistance\n",
      "2          empire\n",
      "3      resistance\n",
      "4          empire\n",
      "          ...    \n",
      "995    resistance\n",
      "996    resistance\n",
      "997    resistance\n",
      "998    resistance\n",
      "999        empire\n",
      "Name: empire_or_resistance, Length: 1000, dtype: object\n"
     ]
    }
   ],
   "source": [
    "# Create grouped data showing counts of empire vs resistance.\n",
    "\n",
    "print(df.empire_or_resistance)\n"
   ]
  },
  {
   "cell_type": "code",
   "execution_count": null,
   "id": "368f32fc",
   "metadata": {},
   "outputs": [],
   "source": []
  }
 ],
 "metadata": {
  "kernelspec": {
   "display_name": "Python 3 (ipykernel)",
   "language": "python",
   "name": "python3"
  },
  "language_info": {
   "codemirror_mode": {
    "name": "ipython",
    "version": 3
   },
   "file_extension": ".py",
   "mimetype": "text/x-python",
   "name": "python",
   "nbconvert_exporter": "python",
   "pygments_lexer": "ipython3",
   "version": "3.10.9"
  }
 },
 "nbformat": 4,
 "nbformat_minor": 5
}

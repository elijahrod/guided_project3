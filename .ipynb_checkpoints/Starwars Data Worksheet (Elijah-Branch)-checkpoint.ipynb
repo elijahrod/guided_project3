{
 "cells": [
  {
   "cell_type": "code",
   "execution_count": 4,
   "id": "58d8719d",
   "metadata": {},
   "outputs": [],
   "source": [
    "import pandas as pd\n",
    "from sklearn.tree import DecisionTreeClassifier\n",
    "from sklearn.model_selection import train_test_split\n",
    "from sklearn.metrics import accuracy_score\n",
    "import seaborn as sns\n",
    "import matplotlib.pyplot as plt\n",
    "import matplotlib.ticker as ticker\n",
    "\n",
    "#import our random data \n",
    "df = pd.read_csv('./troop_movements.csv')"
   ]
  },
  {
   "cell_type": "code",
   "execution_count": 31,
   "id": "0c2c75e8",
   "metadata": {},
   "outputs": [
    {
     "name": "stdout",
     "output_type": "stream",
     "text": [
      "empire_or_resistance\n",
      "empire        475\n",
      "resistance    525\n",
      "Name: empire_or_resistance, dtype: int64\n"
     ]
    }
   ],
   "source": [
    "# Create grouped data showing counts of empire vs resistance.\n",
    "\n",
    "print(df.groupby('empire_or_resistance')['empire_or_resistance'].count())\n"
   ]
  },
  {
   "cell_type": "code",
   "execution_count": 32,
   "id": "50f9b038",
   "metadata": {},
   "outputs": [
    {
     "name": "stdout",
     "output_type": "stream",
     "text": [
      "homeworld\n",
      "Alderaan        21\n",
      "Aleen Minor     17\n",
      "Bestine IV      20\n",
      "Cerea           24\n",
      "Champala        21\n",
      "Chandrila       29\n",
      "Concord Dawn    19\n",
      "Corellia        26\n",
      "Dagobah         36\n",
      "Dathomir        21\n",
      "Dorin           20\n",
      "Eriadu          23\n",
      "Glee Anselm     24\n",
      "Haruun Kal      18\n",
      "Iktotch         37\n",
      "Iridonia        25\n",
      "Kalee           22\n",
      "Kashyyyk        22\n",
      "Malastare       19\n",
      "Mirial          22\n",
      "Mon Cala        28\n",
      "Muunilinst      28\n",
      "Naboo           26\n",
      "Ojom            14\n",
      "Quermia         13\n",
      "Rodia           39\n",
      "Ryloth          19\n",
      "Serenno         25\n",
      "Shili           31\n",
      "Skako           21\n",
      "Socorro         34\n",
      "Stewjon         23\n",
      "Sullust         27\n",
      "Tatooine        27\n",
      "Tholoth         16\n",
      "Toydaria        26\n",
      "Trandosha       23\n",
      "Troiken         24\n",
      "Tund            24\n",
      "Umbara          24\n",
      "Vulpter         25\n",
      "Zolan           17\n",
      "Name: homeworld, dtype: int64\n"
     ]
    }
   ],
   "source": [
    "# Create grouped data showing counts of characters by homeworld\n",
    "print(df.groupby('homeworld')['homeworld'].count())"
   ]
  },
  {
   "cell_type": "code",
   "execution_count": 33,
   "id": "913c0815",
   "metadata": {},
   "outputs": [
    {
     "name": "stdout",
     "output_type": "stream",
     "text": [
      "unit_type\n",
      "at-at                 110\n",
      "at-st                 136\n",
      "resistance_soldier    128\n",
      "stormtrooper          131\n",
      "tie_fighter           125\n",
      "tie_silencer          122\n",
      "unknown               134\n",
      "x-wing                114\n",
      "Name: unit_type, dtype: int64\n"
     ]
    }
   ],
   "source": [
    "# Created grouped data showing counts of characters by unit_type.\n",
    "\n",
    "print(df.groupby('unit_type')['unit_type'].count())"
   ]
  },
  {
   "cell_type": "code",
   "execution_count": null,
   "id": "34382f40",
   "metadata": {},
   "outputs": [],
   "source": []
  }
 ],
 "metadata": {
  "kernelspec": {
   "display_name": "Python 3 (ipykernel)",
   "language": "python",
   "name": "python3"
  },
  "language_info": {
   "codemirror_mode": {
    "name": "ipython",
    "version": 3
   },
   "file_extension": ".py",
   "mimetype": "text/x-python",
   "name": "python",
   "nbconvert_exporter": "python",
   "pygments_lexer": "ipython3",
   "version": "3.10.9"
  }
 },
 "nbformat": 4,
 "nbformat_minor": 5
}

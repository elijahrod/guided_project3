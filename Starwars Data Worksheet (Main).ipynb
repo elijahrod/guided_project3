{
 "cells": [
  {
   "cell_type": "code",
   "execution_count": 9,
   "id": "917c5e7a",
   "metadata": {},
   "outputs": [],
   "source": [
    "import pandas as pd\n",
    "from sklearn.tree import DecisionTreeClassifier\n",
    "from sklearn.model_selection import train_test_split\n",
    "from sklearn.metrics import accuracy_score\n",
    "import seaborn as sns\n",
    "import matplotlib.pyplot as plt\n",
    "import matplotlib.ticker as ticker\n",
    "\n",
    "#import our random data \n",
    "df = pd.read_csv('./troop_movements.csv')"
   ]
  },
  {
   "cell_type": "code",
   "execution_count": 10,
   "id": "2c146c09",
   "metadata": {},
   "outputs": [
    {
     "name": "stdout",
     "output_type": "stream",
     "text": [
      "empire_or_resistance\n",
      "empire        475\n",
      "resistance    525\n",
      "Name: empire_or_resistance, dtype: int64\n"
     ]
    }
   ],
   "source": [
    "# Create grouped data showing counts of empire vs resistance.\n",
    "\n",
    "print(df.groupby('empire_or_resistance')['empire_or_resistance'].count())\n"
   ]
  },
  {
   "cell_type": "code",
   "execution_count": 32,
   "id": "9cde7c08",
   "metadata": {},
   "outputs": [
    {
     "name": "stdout",
     "output_type": "stream",
     "text": [
      "homeworld\n",
      "Alderaan        21\n",
      "Aleen Minor     17\n",
      "Bestine IV      20\n",
      "Cerea           24\n",
      "Champala        21\n",
      "Chandrila       29\n",
      "Concord Dawn    19\n",
      "Corellia        26\n",
      "Dagobah         36\n",
      "Dathomir        21\n",
      "Dorin           20\n",
      "Eriadu          23\n",
      "Glee Anselm     24\n",
      "Haruun Kal      18\n",
      "Iktotch         37\n",
      "Iridonia        25\n",
      "Kalee           22\n",
      "Kashyyyk        22\n",
      "Malastare       19\n",
      "Mirial          22\n",
      "Mon Cala        28\n",
      "Muunilinst      28\n",
      "Naboo           26\n",
      "Ojom            14\n",
      "Quermia         13\n",
      "Rodia           39\n",
      "Ryloth          19\n",
      "Serenno         25\n",
      "Shili           31\n",
      "Skako           21\n",
      "Socorro         34\n",
      "Stewjon         23\n",
      "Sullust         27\n",
      "Tatooine        27\n",
      "Tholoth         16\n",
      "Toydaria        26\n",
      "Trandosha       23\n",
      "Troiken         24\n",
      "Tund            24\n",
      "Umbara          24\n",
      "Vulpter         25\n",
      "Zolan           17\n",
      "Name: homeworld, dtype: int64\n"
     ]
    }
   ],
   "source": [
    "# Create grouped data showing counts of characters by homeworld\n",
    "print(df.groupby('homeworld')['homeworld'].count())"
   ]
  },
  {
   "cell_type": "code",
   "execution_count": 11,
   "id": "298fe75e",
   "metadata": {},
   "outputs": [
    {
     "name": "stdout",
     "output_type": "stream",
     "text": [
      "unit_type\n",
      "at-at                 110\n",
      "at-st                 136\n",
      "resistance_soldier    128\n",
      "stormtrooper          131\n",
      "tie_fighter           125\n",
      "tie_silencer          122\n",
      "unknown               134\n",
      "x-wing                114\n",
      "Name: unit_type, dtype: int64\n"
     ]
    }
   ],
   "source": [
    "# Created grouped data showing counts of characters by unit_type.\n",
    "\n",
    "print(df.groupby('unit_type')['unit_type'].count())"
   ]
  },
  {
   "cell_type": "code",
   "execution_count": 12,
   "id": "3883c089",
   "metadata": {},
   "outputs": [
    {
     "name": "stdout",
     "output_type": "stream",
     "text": [
      "               timestamp  unit_id     unit_type empire_or_resistance  \\\n",
      "0    2023-10-10 09:54:43        1         at-st               empire   \n",
      "1    2023-10-10 09:54:42        2       unknown           resistance   \n",
      "2    2023-10-10 09:54:41        3        x-wing               empire   \n",
      "3    2023-10-10 09:54:40        4       unknown           resistance   \n",
      "4    2023-10-10 09:54:39        5        x-wing               empire   \n",
      "..                   ...      ...           ...                  ...   \n",
      "995  2023-10-10 09:38:08      996  tie_silencer           resistance   \n",
      "996  2023-10-10 09:38:07      997  tie_silencer           resistance   \n",
      "997  2023-10-10 09:38:06      998        x-wing           resistance   \n",
      "998  2023-10-10 09:38:05      999  stormtrooper           resistance   \n",
      "999  2023-10-10 09:38:04     1000  stormtrooper               empire   \n",
      "\n",
      "     location_x  location_y  destination_x  destination_y   homeworld  \\\n",
      "0             2           2              9              1     Dagobah   \n",
      "1             4           6              8              9     Iktotch   \n",
      "2             2           1              2              5       Cerea   \n",
      "3             6           2              7              8  Haruun Kal   \n",
      "4             4           3              2              3  Haruun Kal   \n",
      "..          ...         ...            ...            ...         ...   \n",
      "995           2           4              9              1     Troiken   \n",
      "996           8           4              9              3     Vulpter   \n",
      "997           8           1              6              9       Rodia   \n",
      "998          10           5              6              3   Malastare   \n",
      "999           5           8              6              2    Mon Cala   \n",
      "\n",
      "     is_resistance  \n",
      "0            False  \n",
      "1             True  \n",
      "2            False  \n",
      "3             True  \n",
      "4            False  \n",
      "..             ...  \n",
      "995           True  \n",
      "996           True  \n",
      "997           True  \n",
      "998           True  \n",
      "999          False  \n",
      "\n",
      "[1000 rows x 10 columns]\n"
     ]
    }
   ],
   "source": [
    "#Engineer a new feature called is_resistance with a True or False value based on empire_or_resiatance.\n",
    "\n",
    "#function to check if isResistance\n",
    "def is_resistance(x):\n",
    "    if x == 'resistance':\n",
    "        return True\n",
    "    else:\n",
    "        return False\n",
    "    \n",
    "df['is_resistance'] = df['empire_or_resistance'].apply(is_resistance)\n",
    "print(df)"
   ]
  },
  {
   "cell_type": "code",
   "execution_count": 28,
   "id": "dcc69be9",
   "metadata": {},
   "outputs": [
    {
     "data": {
      "text/plain": [
       "[Text(0.5, 0, 'Empire or Resistance'),\n",
       " Text(0, 0.5, 'Count'),\n",
       " Text(0.5, 1.0, 'Character Count by Empire or Resistance')]"
      ]
     },
     "execution_count": 28,
     "metadata": {},
     "output_type": "execute_result"
    },
    {
     "data": {
      "image/png": "[encoded data removed]",
      "text/plain": [
       "<Figure size 640x480 with 1 Axes>"
      ]
     },
     "metadata": {},
     "output_type": "display_data"
    }
   ],
   "source": [
    "sns.set()\n",
    "#df.groupby('empire_or_resistance')['empire_or_resistance'].count()\n",
    "#cdf = df.groupby('empire_or_resistance')['empire_or_resistance'].rename(name= 'Count')\n",
    "cdf = df['resistance_empire_count'] = df.groupby('empire_or_resistance')['empire_or_resistance'].count() \n",
    "allegiance_count = sns.barplot(x = cdf.index, y = cdf.values)\n",
    "allegiance_count.set(xlabel = 'Empire or Resistance', ylabel = 'Count', title = 'Character Count by Empire or Resistance')\n"
   ]
  },
  {
   "cell_type": "code",
   "execution_count": null,
   "id": "6eded28d",
   "metadata": {},
   "outputs": [],
   "source": []
  }
 ],
 "metadata": {
  "kernelspec": {
   "display_name": "Python 3 (ipykernel)",
   "language": "python",
   "name": "python3"
  },
  "language_info": {
   "codemirror_mode": {
    "name": "ipython",
    "version": 3
   },
   "file_extension": ".py",
   "mimetype": "text/x-python",
   "name": "python",
   "nbconvert_exporter": "python",
   "pygments_lexer": "ipython3",
   "version": "3.10.9"
  }
 },
 "nbformat": 4,
 "nbformat_minor": 5
}
